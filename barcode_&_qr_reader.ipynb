{
 "cells": [
  {
   "cell_type": "code",
   "execution_count": null,
   "metadata": {},
   "outputs": [],
   "source": [
    "pip3 install numpy\n",
    "pip3 install pyzbar"
   ]
  },
  {
   "cell_type": "code",
   "execution_count": null,
   "metadata": {},
   "outputs": [],
   "source": [
    "import cv2\n",
    "import numpy as np\n",
    "from pyzbar.pyzbar import decode\n",
    "\n",
    "cap = cv2.VideoCapture(0)  # Use camera index 0 for the default Raspberry Pi camera\n",
    "\n",
    "while True:\n",
    "    success, img = cap.read()\n",
    "\n",
    "    if not success:\n",
    "        break\n",
    "\n",
    "    for code in decode(img):\n",
    "        decoded_data = code.data.decode(\"utf-8\")\n",
    "        rect_pts = code.rect\n",
    "\n",
    "        if decoded_data:\n",
    "            pts = np.array([code.polygon], np.int32)\n",
    "            cv2.polylines(img, [pts], True, (0, 255, 0), 3)\n",
    "            \n",
    "            cv2.putText(img, str(decoded_data), (rect_pts[0], rect_pts[1]), cv2.FONT_HERSHEY_COMPLEX_SMALL, 1, (0, 255, 0))\n",
    "            \n",
    "            # Print the decoded data in the terminal\n",
    "            print(\"Decoded Data:\", decoded_data)\n",
    "\n",
    "    cv2.imshow(\"image\", img)\n",
    "    if cv2.waitKey(1) & 0xFF == 27:  # Press 'Esc' to exit the loop\n",
    "        break\n",
    "\n",
    "cap.release()\n",
    "cv2.destroyAllWindows()\n"
   ]
  }
 ],
 "metadata": {
  "language_info": {
   "name": "python"
  }
 },
 "nbformat": 4,
 "nbformat_minor": 2
}
